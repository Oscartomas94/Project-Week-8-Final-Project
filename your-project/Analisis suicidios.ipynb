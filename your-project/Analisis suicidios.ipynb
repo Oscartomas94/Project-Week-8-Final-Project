{
 "cells": [
  {
   "cell_type": "code",
   "execution_count": 1,
   "metadata": {},
   "outputs": [],
   "source": [
    "import pandas as pd\n",
    "import numpy as np\n"
   ]
  },
  {
   "cell_type": "code",
   "execution_count": 2,
   "metadata": {},
   "outputs": [
    {
     "name": "stderr",
     "output_type": "stream",
     "text": [
      "C:\\Users\\oosca\\anaconda3\\lib\\site-packages\\pandas\\core\\frame.py:3990: SettingWithCopyWarning: \n",
      "A value is trying to be set on a copy of a slice from a DataFrame\n",
      "\n",
      "See the caveats in the documentation: https://pandas.pydata.org/pandas-docs/stable/user_guide/indexing.html#returning-a-view-versus-a-copy\n",
      "  return super().drop(\n"
     ]
    }
   ],
   "source": [
    "suicide = pd.read_csv(\"../Dataset/who_suicide_statistics.csv\")\n",
    "suicide_spain = suicide.loc[suicide['country'] == \"Spain\"]\n",
    "suicide_spain.drop(['country'], axis=1, inplace=True)"
   ]
  },
  {
   "cell_type": "code",
   "execution_count": 3,
   "metadata": {},
   "outputs": [],
   "source": [
    "suicidios_spain_edades = suicide_spain.dropna()"
   ]
  },
  {
   "cell_type": "code",
   "execution_count": 4,
   "metadata": {},
   "outputs": [],
   "source": [
    "suicidios_spain_edades.to_csv(\"../Dataset/suicidios_España_edades.csv\")"
   ]
  },
  {
   "cell_type": "code",
   "execution_count": 5,
   "metadata": {},
   "outputs": [
    {
     "data": {
      "text/html": [
       "<div>\n",
       "<style scoped>\n",
       "    .dataframe tbody tr th:only-of-type {\n",
       "        vertical-align: middle;\n",
       "    }\n",
       "\n",
       "    .dataframe tbody tr th {\n",
       "        vertical-align: top;\n",
       "    }\n",
       "\n",
       "    .dataframe thead th {\n",
       "        text-align: right;\n",
       "    }\n",
       "</style>\n",
       "<table border=\"1\" class=\"dataframe\">\n",
       "  <thead>\n",
       "    <tr style=\"text-align: right;\">\n",
       "      <th></th>\n",
       "      <th>year</th>\n",
       "      <th>sex</th>\n",
       "      <th>age</th>\n",
       "      <th>suicides_no</th>\n",
       "      <th>population</th>\n",
       "    </tr>\n",
       "  </thead>\n",
       "  <tbody>\n",
       "    <tr>\n",
       "      <th>36612</th>\n",
       "      <td>1980</td>\n",
       "      <td>female</td>\n",
       "      <td>15-24 years</td>\n",
       "      <td>33.0</td>\n",
       "      <td>3045100.0</td>\n",
       "    </tr>\n",
       "    <tr>\n",
       "      <th>36613</th>\n",
       "      <td>1980</td>\n",
       "      <td>female</td>\n",
       "      <td>25-34 years</td>\n",
       "      <td>32.0</td>\n",
       "      <td>2456900.0</td>\n",
       "    </tr>\n",
       "    <tr>\n",
       "      <th>36614</th>\n",
       "      <td>1980</td>\n",
       "      <td>female</td>\n",
       "      <td>35-54 years</td>\n",
       "      <td>122.0</td>\n",
       "      <td>4509700.0</td>\n",
       "    </tr>\n",
       "    <tr>\n",
       "      <th>36615</th>\n",
       "      <td>1980</td>\n",
       "      <td>female</td>\n",
       "      <td>5-14 years</td>\n",
       "      <td>1.0</td>\n",
       "      <td>3206400.0</td>\n",
       "    </tr>\n",
       "    <tr>\n",
       "      <th>36616</th>\n",
       "      <td>1980</td>\n",
       "      <td>female</td>\n",
       "      <td>55-74 years</td>\n",
       "      <td>165.0</td>\n",
       "      <td>3414400.0</td>\n",
       "    </tr>\n",
       "    <tr>\n",
       "      <th>...</th>\n",
       "      <td>...</td>\n",
       "      <td>...</td>\n",
       "      <td>...</td>\n",
       "      <td>...</td>\n",
       "      <td>...</td>\n",
       "    </tr>\n",
       "    <tr>\n",
       "      <th>37039</th>\n",
       "      <td>2015</td>\n",
       "      <td>male</td>\n",
       "      <td>25-34 years</td>\n",
       "      <td>241.0</td>\n",
       "      <td>2897590.0</td>\n",
       "    </tr>\n",
       "    <tr>\n",
       "      <th>37040</th>\n",
       "      <td>2015</td>\n",
       "      <td>male</td>\n",
       "      <td>35-54 years</td>\n",
       "      <td>1015.0</td>\n",
       "      <td>7551081.0</td>\n",
       "    </tr>\n",
       "    <tr>\n",
       "      <th>37041</th>\n",
       "      <td>2015</td>\n",
       "      <td>male</td>\n",
       "      <td>5-14 years</td>\n",
       "      <td>7.0</td>\n",
       "      <td>2475209.0</td>\n",
       "    </tr>\n",
       "    <tr>\n",
       "      <th>37042</th>\n",
       "      <td>2015</td>\n",
       "      <td>male</td>\n",
       "      <td>55-74 years</td>\n",
       "      <td>736.0</td>\n",
       "      <td>4750328.0</td>\n",
       "    </tr>\n",
       "    <tr>\n",
       "      <th>37043</th>\n",
       "      <td>2015</td>\n",
       "      <td>male</td>\n",
       "      <td>75+ years</td>\n",
       "      <td>573.0</td>\n",
       "      <td>1693221.0</td>\n",
       "    </tr>\n",
       "  </tbody>\n",
       "</table>\n",
       "<p>432 rows × 5 columns</p>\n",
       "</div>"
      ],
      "text/plain": [
       "       year     sex          age  suicides_no  population\n",
       "36612  1980  female  15-24 years         33.0   3045100.0\n",
       "36613  1980  female  25-34 years         32.0   2456900.0\n",
       "36614  1980  female  35-54 years        122.0   4509700.0\n",
       "36615  1980  female   5-14 years          1.0   3206400.0\n",
       "36616  1980  female  55-74 years        165.0   3414400.0\n",
       "...     ...     ...          ...          ...         ...\n",
       "37039  2015    male  25-34 years        241.0   2897590.0\n",
       "37040  2015    male  35-54 years       1015.0   7551081.0\n",
       "37041  2015    male   5-14 years          7.0   2475209.0\n",
       "37042  2015    male  55-74 years        736.0   4750328.0\n",
       "37043  2015    male    75+ years        573.0   1693221.0\n",
       "\n",
       "[432 rows x 5 columns]"
      ]
     },
     "execution_count": 5,
     "metadata": {},
     "output_type": "execute_result"
    }
   ],
   "source": [
    "suicidios_spain_edades"
   ]
  },
  {
   "cell_type": "code",
   "execution_count": 6,
   "metadata": {},
   "outputs": [],
   "source": [
    "tabla_completa = pd.read_csv(\"../Dataset/final_table.csv\")"
   ]
  },
  {
   "cell_type": "code",
   "execution_count": 7,
   "metadata": {},
   "outputs": [
    {
     "name": "stderr",
     "output_type": "stream",
     "text": [
      "C:\\Users\\oosca\\anaconda3\\lib\\site-packages\\pandas\\core\\frame.py:3990: SettingWithCopyWarning: \n",
      "A value is trying to be set on a copy of a slice from a DataFrame\n",
      "\n",
      "See the caveats in the documentation: https://pandas.pydata.org/pandas-docs/stable/user_guide/indexing.html#returning-a-view-versus-a-copy\n",
      "  return super().drop(\n"
     ]
    }
   ],
   "source": [
    "tabla_completa_spain = tabla_completa.loc[tabla_completa['country'] == \"Spain\"]\n",
    "tabla_completa_spain.drop(['Unnamed: 0', 'country', 'Assigned To Zone', 'Region'], axis=1, inplace=True)"
   ]
  },
  {
   "cell_type": "code",
   "execution_count": 8,
   "metadata": {},
   "outputs": [
    {
     "data": {
      "text/html": [
       "<div>\n",
       "<style scoped>\n",
       "    .dataframe tbody tr th:only-of-type {\n",
       "        vertical-align: middle;\n",
       "    }\n",
       "\n",
       "    .dataframe tbody tr th {\n",
       "        vertical-align: top;\n",
       "    }\n",
       "\n",
       "    .dataframe thead th {\n",
       "        text-align: right;\n",
       "    }\n",
       "</style>\n",
       "<table border=\"1\" class=\"dataframe\">\n",
       "  <thead>\n",
       "    <tr style=\"text-align: right;\">\n",
       "      <th></th>\n",
       "      <th>year</th>\n",
       "      <th>sex</th>\n",
       "      <th>age</th>\n",
       "      <th>suicides/100k pop</th>\n",
       "      <th>HDI for year</th>\n",
       "      <th>gdp_per_capita</th>\n",
       "      <th>generation</th>\n",
       "    </tr>\n",
       "  </thead>\n",
       "  <tbody>\n",
       "    <tr>\n",
       "      <th>3588</th>\n",
       "      <td>1985</td>\n",
       "      <td>male</td>\n",
       "      <td>75+ years</td>\n",
       "      <td>44</td>\n",
       "      <td>0.725</td>\n",
       "      <td>5009</td>\n",
       "      <td>G.I. Generation</td>\n",
       "    </tr>\n",
       "    <tr>\n",
       "      <th>3589</th>\n",
       "      <td>1985</td>\n",
       "      <td>male</td>\n",
       "      <td>55-74 years</td>\n",
       "      <td>20</td>\n",
       "      <td>0.725</td>\n",
       "      <td>5009</td>\n",
       "      <td>G.I. Generation</td>\n",
       "    </tr>\n",
       "    <tr>\n",
       "      <th>3590</th>\n",
       "      <td>1985</td>\n",
       "      <td>female</td>\n",
       "      <td>75+ years</td>\n",
       "      <td>11</td>\n",
       "      <td>0.725</td>\n",
       "      <td>5009</td>\n",
       "      <td>G.I. Generation</td>\n",
       "    </tr>\n",
       "    <tr>\n",
       "      <th>3591</th>\n",
       "      <td>1985</td>\n",
       "      <td>male</td>\n",
       "      <td>35-54 years</td>\n",
       "      <td>11</td>\n",
       "      <td>0.725</td>\n",
       "      <td>5009</td>\n",
       "      <td>Silent</td>\n",
       "    </tr>\n",
       "    <tr>\n",
       "      <th>3592</th>\n",
       "      <td>1985</td>\n",
       "      <td>male</td>\n",
       "      <td>25-34 years</td>\n",
       "      <td>8</td>\n",
       "      <td>0.725</td>\n",
       "      <td>5009</td>\n",
       "      <td>Boomers</td>\n",
       "    </tr>\n",
       "    <tr>\n",
       "      <th>...</th>\n",
       "      <td>...</td>\n",
       "      <td>...</td>\n",
       "      <td>...</td>\n",
       "      <td>...</td>\n",
       "      <td>...</td>\n",
       "      <td>...</td>\n",
       "      <td>...</td>\n",
       "    </tr>\n",
       "    <tr>\n",
       "      <th>3703</th>\n",
       "      <td>2014</td>\n",
       "      <td>female</td>\n",
       "      <td>35-54 years</td>\n",
       "      <td>5</td>\n",
       "      <td>0.876</td>\n",
       "      <td>31171</td>\n",
       "      <td>Generation X</td>\n",
       "    </tr>\n",
       "    <tr>\n",
       "      <th>3704</th>\n",
       "      <td>2014</td>\n",
       "      <td>female</td>\n",
       "      <td>25-34 years</td>\n",
       "      <td>2</td>\n",
       "      <td>0.876</td>\n",
       "      <td>31171</td>\n",
       "      <td>Millenials</td>\n",
       "    </tr>\n",
       "    <tr>\n",
       "      <th>3705</th>\n",
       "      <td>2014</td>\n",
       "      <td>female</td>\n",
       "      <td>15-24 years</td>\n",
       "      <td>2</td>\n",
       "      <td>0.876</td>\n",
       "      <td>31171</td>\n",
       "      <td>Millenials</td>\n",
       "    </tr>\n",
       "    <tr>\n",
       "      <th>3706</th>\n",
       "      <td>2014</td>\n",
       "      <td>female</td>\n",
       "      <td>5-14 years</td>\n",
       "      <td>0</td>\n",
       "      <td>0.876</td>\n",
       "      <td>31171</td>\n",
       "      <td>Generation Z</td>\n",
       "    </tr>\n",
       "    <tr>\n",
       "      <th>3707</th>\n",
       "      <td>2014</td>\n",
       "      <td>male</td>\n",
       "      <td>5-14 years</td>\n",
       "      <td>0</td>\n",
       "      <td>0.876</td>\n",
       "      <td>31171</td>\n",
       "      <td>Generation Z</td>\n",
       "    </tr>\n",
       "  </tbody>\n",
       "</table>\n",
       "<p>120 rows × 7 columns</p>\n",
       "</div>"
      ],
      "text/plain": [
       "      year     sex          age  suicides/100k pop  HDI for year  \\\n",
       "3588  1985    male    75+ years                 44         0.725   \n",
       "3589  1985    male  55-74 years                 20         0.725   \n",
       "3590  1985  female    75+ years                 11         0.725   \n",
       "3591  1985    male  35-54 years                 11         0.725   \n",
       "3592  1985    male  25-34 years                  8         0.725   \n",
       "...    ...     ...          ...                ...           ...   \n",
       "3703  2014  female  35-54 years                  5         0.876   \n",
       "3704  2014  female  25-34 years                  2         0.876   \n",
       "3705  2014  female  15-24 years                  2         0.876   \n",
       "3706  2014  female   5-14 years                  0         0.876   \n",
       "3707  2014    male   5-14 years                  0         0.876   \n",
       "\n",
       "      gdp_per_capita       generation  \n",
       "3588            5009  G.I. Generation  \n",
       "3589            5009  G.I. Generation  \n",
       "3590            5009  G.I. Generation  \n",
       "3591            5009           Silent  \n",
       "3592            5009          Boomers  \n",
       "...              ...              ...  \n",
       "3703           31171     Generation X  \n",
       "3704           31171       Millenials  \n",
       "3705           31171       Millenials  \n",
       "3706           31171     Generation Z  \n",
       "3707           31171     Generation Z  \n",
       "\n",
       "[120 rows x 7 columns]"
      ]
     },
     "execution_count": 8,
     "metadata": {},
     "output_type": "execute_result"
    }
   ],
   "source": [
    "tabla_completa_spain"
   ]
  },
  {
   "cell_type": "code",
   "execution_count": 10,
   "metadata": {},
   "outputs": [],
   "source": [
    "tabla_completa_spain.to_csv(\"../Dataset/Tabla completa España.csv\")"
   ]
  },
  {
   "cell_type": "code",
   "execution_count": null,
   "metadata": {},
   "outputs": [],
   "source": []
  },
  {
   "cell_type": "code",
   "execution_count": 11,
   "metadata": {},
   "outputs": [],
   "source": [
    "suicidios_GDP = pd.read_csv(\"../Dataset/GDP Suicide rates.csv\")"
   ]
  },
  {
   "cell_type": "code",
   "execution_count": 12,
   "metadata": {},
   "outputs": [],
   "source": [
    "col_names_a = ['Country', 'ISO-code', 'GDP 2000 ($)', 'Rate 2000', 'GDP 2005 ($)', 'Rate 2005', 'GDP 2010 ($)', 'Rate 2010', 'GDP 2015 ($)',\n",
    "       'Rate 2015', 'GDP 2016 ($)', 'Rate 2016']\n",
    "\n",
    "suicidios_GDP.columns = col_names_a\n",
    "suicidios_GDP.drop(['GDP 2016 ($)', 'Rate 2016'], axis=1, inplace=True)"
   ]
  },
  {
   "cell_type": "code",
   "execution_count": 13,
   "metadata": {},
   "outputs": [],
   "source": [
    "suicidios_GDP.to_csv(\"../Dataset/Suicidios_GDP.csv\")"
   ]
  },
  {
   "cell_type": "code",
   "execution_count": 14,
   "metadata": {},
   "outputs": [
    {
     "data": {
      "text/plain": [
       "'\\nrefers to the population shift from rural to urban areas, \\nthe decrease in the proportion of people living in rural areas, \\nand the ways in which societies adapt to this change. \\nIt is predominantly the process by which towns and \\ncities are formed and become larger as more people begin living and working in central areas.\\n'"
      ]
     },
     "execution_count": 14,
     "metadata": {},
     "output_type": "execute_result"
    }
   ],
   "source": [
    "fertility = pd.read_csv(\"../Dataset/fertility 2020.csv\")\n",
    "# Total fertility rate (TFR) of a population is the average number of children that would be born to a woman over her lifetime \n",
    "\n",
    "life = pd.read_csv(\"../Dataset/Life expectancy 2020.csv\")\n",
    "\n",
    "age = pd.read_csv(\"../Dataset/Median age 2020.csv\")\n",
    "\n",
    "# Median age is the age that divides a population into two numerically equally sized groups - that is, half the people are younger than this age and half are older. It is a single index that summarizes the age distribution of a population.\n",
    "\n",
    "popgrowth = pd.read_csv(\"../Dataset/Population growth 2020.csv\")\n",
    "\n",
    "# shows the population growth rate and its projections over the world's countries.\n",
    "\n",
    "suiciderate = pd.read_csv(\"../Dataset/Suicide rate 2020.csv\")\n",
    "\n",
    "# This lists of countries contains the suicide rate as per data published by the World Health Organization (WHO).\n",
    "\n",
    "urban = pd.read_csv(\"../Dataset/Urbanization rate 2020.csv\")\n",
    "\n",
    "\"\"\"\n",
    "refers to the population shift from rural to urban areas, \n",
    "the decrease in the proportion of people living in rural areas, \n",
    "and the ways in which societies adapt to this change. \n",
    "It is predominantly the process by which towns and \n",
    "cities are formed and become larger as more people begin living and working in central areas.\n",
    "\"\"\""
   ]
  },
  {
   "cell_type": "code",
   "execution_count": 15,
   "metadata": {},
   "outputs": [],
   "source": [
    "col_names = ['Final', 'Fertility', 'ISO-code']\n",
    "\n",
    "fertility.columns = col_names"
   ]
  },
  {
   "cell_type": "code",
   "execution_count": 16,
   "metadata": {},
   "outputs": [],
   "source": [
    "m = fertility.merge(life, left_on=\"ISO-code\", right_on=\"ISO-code\")\n",
    "m1 = m.merge(age, left_on=\"ISO-code\", right_on=\"ISO-code\")\n",
    "m2 = m1.merge(popgrowth, left_on=\"ISO-code\", right_on=\"ISO-code\")\n",
    "m3 = m2.merge(suiciderate, left_on=\"ISO-code\", right_on=\"ISO-code\")\n",
    "m4 = m3.merge(urban, left_on=\"ISO-code\", right_on=\"ISO-code\")"
   ]
  },
  {
   "cell_type": "code",
   "execution_count": 17,
   "metadata": {},
   "outputs": [],
   "source": [
    "big_table = m4.drop([\"Country_y\", \"Country_x\", \"Country_y\", \"Country\"], axis=1)\n",
    "big_table = big_table[big_table['ISO-code'] != \"GIN\"]\n"
   ]
  },
  {
   "cell_type": "code",
   "execution_count": 18,
   "metadata": {},
   "outputs": [],
   "source": [
    "big_table.drop(index=189, inplace=True)"
   ]
  },
  {
   "cell_type": "code",
   "execution_count": 23,
   "metadata": {},
   "outputs": [],
   "source": [
    "col_names_a = ['Country', \"Fertility\", \"ISO-code\", \"Life expectancy\", 'Median age', 'Population gowth', 'Suicide rate', 'Urbanization rate']\n",
    "\n",
    "big_table.columns = col_names_a"
   ]
  },
  {
   "cell_type": "code",
   "execution_count": 1,
   "metadata": {},
   "outputs": [
    {
     "ename": "NameError",
     "evalue": "name 'big_table' is not defined",
     "output_type": "error",
     "traceback": [
      "\u001b[1;31m---------------------------------------------------------------------------\u001b[0m",
      "\u001b[1;31mNameError\u001b[0m                                 Traceback (most recent call last)",
      "\u001b[1;32m<ipython-input-1-cac372bb113f>\u001b[0m in \u001b[0;36m<module>\u001b[1;34m\u001b[0m\n\u001b[1;32m----> 1\u001b[1;33m \u001b[0mbig_table\u001b[0m\u001b[1;33m.\u001b[0m\u001b[0mhead\u001b[0m\u001b[1;33m(\u001b[0m\u001b[1;33m)\u001b[0m\u001b[1;33m\u001b[0m\u001b[1;33m\u001b[0m\u001b[0m\n\u001b[0m",
      "\u001b[1;31mNameError\u001b[0m: name 'big_table' is not defined"
     ]
    }
   ],
   "source": [
    "big_table.head()"
   ]
  },
  {
   "cell_type": "code",
   "execution_count": 26,
   "metadata": {},
   "outputs": [],
   "source": [
    "big_table = big_table[['Country', 'ISO-code', 'Suicide rate', \"Life expectancy\", 'Fertility', 'Median age', 'Population gowth', 'Urbanization rate']]"
   ]
  },
  {
   "cell_type": "code",
   "execution_count": 29,
   "metadata": {},
   "outputs": [],
   "source": [
    "big_table.to_csv(\"../Dataset/table_countries.csv\")"
   ]
  },
  {
   "cell_type": "code",
   "execution_count": null,
   "metadata": {},
   "outputs": [],
   "source": []
  }
 ],
 "metadata": {
  "kernelspec": {
   "display_name": "Python 3",
   "language": "python",
   "name": "python3"
  },
  "language_info": {
   "codemirror_mode": {
    "name": "ipython",
    "version": 3
   },
   "file_extension": ".py",
   "mimetype": "text/x-python",
   "name": "python",
   "nbconvert_exporter": "python",
   "pygments_lexer": "ipython3",
   "version": "3.8.3"
  }
 },
 "nbformat": 4,
 "nbformat_minor": 4
}
